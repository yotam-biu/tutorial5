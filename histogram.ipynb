{
  "nbformat": 4,
  "nbformat_minor": 0,
  "metadata": {
    "colab": {
      "provenance": [],
      "authorship_tag": "ABX9TyP1Su8U2IhLwxQmuHmMIbn8",
      "include_colab_link": true
    },
    "kernelspec": {
      "name": "python3",
      "display_name": "Python 3"
    },
    "language_info": {
      "name": "python"
    }
  },
  "cells": [
    {
      "cell_type": "markdown",
      "metadata": {
        "id": "view-in-github",
        "colab_type": "text"
      },
      "source": [
        "<a href=\"https://colab.research.google.com/github/yotam-biu/tutorial5/blob/main/histogram.ipynb\" target=\"_parent\"><img src=\"https://colab.research.google.com/assets/colab-badge.svg\" alt=\"Open In Colab\"/></a>"
      ]
    },
    {
      "cell_type": "code",
      "source": [
        "%load_ext autoreload\n",
        "%autoreload 2\n",
        "\n",
        "# Download histogram_utils.py from your GitHub repository\n",
        "!wget https://raw.githubusercontent.com/yotam-biu/tutorial5/main/histogram_utils.py -O /content/histogram_utils.py\n",
        "# Download examples.py from your GitHub repository\n",
        "!wget https://raw.githubusercontent.com/yotam-biu/tutorial5/main/examples.py -O /content/examples.py\n"
      ],
      "metadata": {
        "id": "1SHTRiWx3k0F"
      },
      "execution_count": null,
      "outputs": []
    },
    {
      "cell_type": "markdown",
      "source": [
        "## **Task 1**: Implementing the `build_histogram` Function\n"
      ],
      "metadata": {
        "id": "D5nzz2Bx-1dP"
      }
    },
    {
      "cell_type": "markdown",
      "source": [
        "\n",
        "In this task, you will implement a function called `build_histogram` that takes a list of data and returns a histogram. A histogram is a representation of the frequency of each unique item in the dataset.\n",
        "\n",
        "#### Input Example Step-by-Step:\n",
        "\n",
        "```python\n",
        "data = [1, 2, 2, 3, 3, 3, 4]\n",
        "```\n",
        "\n",
        "\n",
        "Initially, the histogram is empty: `{}`.\n",
        "\n",
        "Start iterating through the data:\n",
        "\n",
        "- For `1`, it is **not in the dictionary**, so add it with a count of 1: `{1: 1}`.\n",
        "- For `2`, it is **not in the dictionary**, so add it with a count of 1: `{1: 1, 2: 1}`.\n",
        "- For `2`, it is **already in the dictionary**, so increment its count: `{1: 1, 2: 2}`.\n",
        "- For `3`, it is **not in the dictionary**, so add it with a count of 1: `{1: 1, 2: 2, 3: 1}`.\n",
        "- For `3`, it is **already in the dictionary**, so increment its count: `{1: 1, 2: 2, 3: 2}`.\n",
        "- For `3`, it is **already in the dictionary**, so increment its count: `{1: 1, 2: 2, 3: 3}`.\n",
        "- For `4`, it is **not in the dictionary**, so add it with a count of 1: `{1: 1, 2: 2, 3: 3, 4: 1}`.\n",
        "\n",
        "#### Final Output:\n",
        "```python\n",
        "{1: 1, 2: 2, 3: 3, 4: 1}\n"
      ],
      "metadata": {
        "id": "jslp9dsq9vM2"
      }
    },
    {
      "cell_type": "code",
      "source": [
        "def build_histogram(data):\n",
        "    pass # Replace the pass with your code"
      ],
      "metadata": {
        "id": "-gKLT37Z-mV2"
      },
      "execution_count": null,
      "outputs": []
    },
    {
      "cell_type": "markdown",
      "source": [
        "Test your code"
      ],
      "metadata": {
        "id": "tk5TFwMo-mGq"
      }
    },
    {
      "cell_type": "code",
      "source": [
        "def test_build_histogram():\n",
        "    # Test 1: Basic input\n",
        "    data1 = [1, 2, 2, 3, 3, 3, 4]\n",
        "    expected1 = {1: 1, 2: 2, 3: 3, 4: 1}\n",
        "    result1 = build_histogram(data1)\n",
        "    assert result1 == expected1, f\"Test 1 failed: expected {expected1}, got {result1}\"\n",
        "\n",
        "    # Test 2: Empty input\n",
        "    data2 = []\n",
        "    expected2 = {}\n",
        "    result2 = build_histogram(data2)\n",
        "    assert result2 == expected2, f\"Test 2 failed: expected {expected2}, got {result2}\"\n",
        "\n",
        "    # Test 3: All elements the same\n",
        "    data3 = [5, 5, 5, 5, 5]\n",
        "    expected3 = {5: 5}\n",
        "    result3 = build_histogram(data3)\n",
        "    assert result3 == expected3, f\"Test 3 failed: expected {expected3}, got {result3}\"\n",
        "\n",
        "    # Test 4: Single element input\n",
        "    data4 = [10]\n",
        "    expected4 = {10: 1}\n",
        "    result4 = build_histogram(data4)\n",
        "    assert result4 == expected4, f\"Test 4 failed: expected {expected4}, got {result4}\"\n",
        "\n",
        "    # Test 5: Large input\n",
        "    data5 = [1] * 1000 + [2] * 2000 + [3] * 3000\n",
        "    expected5 = {1: 1000, 2: 2000, 3: 3000}\n",
        "    result5 = build_histogram(data5)\n",
        "    assert result5 == expected5, f\"Test 5 failed: expected {expected5}, got {result5}\"\n",
        "\n",
        "    # Test 6: Input with negative numbers\n",
        "    data6 = [-1, -1, 2, 2, 3, 3, 3]\n",
        "    expected6 = {-1: 2, 2: 2, 3: 3}\n",
        "    result6 = build_histogram(data6)\n",
        "    assert result6 == expected6, f\"Test 6 failed: expected {expected6}, got {result6}\"\n",
        "\n",
        "    # If all tests pass\n",
        "    print(\"All tests passed!\")\n",
        "\n",
        "\n",
        "test_build_histogram()\n"
      ],
      "metadata": {
        "id": "DP51ZItY-hCU"
      },
      "execution_count": null,
      "outputs": []
    },
    {
      "cell_type": "markdown",
      "source": [
        "## **Task 2**: Copy `build_histogram` into `histogram.py`\n",
        "\n",
        "Copy the `build_histogram` function into the `histogram.py` file in the `utils` folder and save the file.\n"
      ],
      "metadata": {
        "id": "7f0TJjb3-8kG"
      }
    },
    {
      "cell_type": "markdown",
      "source": [
        "## **Task 3**: Add Matplotlib Import Statement\n",
        "\n",
        "In the `histogram_util.py` file, add the following import statement at the top to use `matplotlib.pyplot` function by the name `plt`:\n",
        "\n"
      ],
      "metadata": {
        "id": "myc3L-icAPr_"
      }
    },
    {
      "cell_type": "markdown",
      "source": [
        "## **Task 4**: Import Functions from `histogram_utils.py`\n",
        "\n",
        "Add the following import statement in this notebook to use the `build_histogram` and `plot_histogram` functions:\n"
      ],
      "metadata": {
        "id": "Ju5ET-R5AuE4"
      }
    },
    {
      "cell_type": "code",
      "execution_count": null,
      "metadata": {
        "id": "Z6Kq2A8K2swK"
      },
      "outputs": [],
      "source": [
        "# Q: import relevant functions from histogram_utils.py\n",
        "\n",
        "data = [1, 2, 2, 3, 3, 3, 4, 4, 4, 4, 5]\n",
        "histogram = build_histogram(data)\n",
        "plot_histogram(histogram)"
      ]
    },
    {
      "cell_type": "markdown",
      "source": [
        "## **Task 5**: Import `sleep` List and `text` String from `examples.py` and Plot Their Histogram\n"
      ],
      "metadata": {
        "id": "NcIFsOAL86pP"
      }
    },
    {
      "cell_type": "code",
      "source": [
        "# Q: import sleep data from examples.py\n",
        "\n",
        "histogram = build_histogram(sleep)\n",
        "plot_histogram(histogram)"
      ],
      "metadata": {
        "id": "IL5FZ7Qw3ZRz"
      },
      "execution_count": null,
      "outputs": []
    },
    {
      "cell_type": "code",
      "source": [
        "# Q: import text data from examples.py\n",
        "\n",
        "histogram = build_histogram(text)\n",
        "plot_histogram(histogram)"
      ],
      "metadata": {
        "id": "Zx7u2yM56Kig"
      },
      "execution_count": null,
      "outputs": []
    }
  ]
}