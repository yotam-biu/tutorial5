{
  "cells": [
    {
      "cell_type": "markdown",
      "metadata": {
        "id": "view-in-github",
        "colab_type": "text"
      },
      "source": [
        "<a href=\"https://colab.research.google.com/github/yotam-biu/tutorial5/blob/main/sympy_tutorial.ipynb\" target=\"_parent\"><img src=\"https://colab.research.google.com/assets/colab-badge.svg\" alt=\"Open In Colab\"/></a>"
      ]
    },
    {
      "metadata": {
        "id": "627e9bb5cd9c7e9d"
      },
      "cell_type": "markdown",
      "source": [
        "**SymPy** is a Python library for symbolic mathematics. It enables you to perform mathematical computations symbolically rather than numerically, meaning you can work with exact representations of mathematical expressions and equations rather than approximate numerical solutions.\n",
        "\n",
        "Here’s a concise tutorial to solve equations using `sympy.Eq` and `sympy.solve`."
      ],
      "id": "627e9bb5cd9c7e9d"
    },
    {
      "metadata": {
        "id": "95f3dd3a14ec466b"
      },
      "cell_type": "markdown",
      "source": [
        "### 1. Import sympy"
      ],
      "id": "95f3dd3a14ec466b"
    },
    {
      "cell_type": "code",
      "id": "initial_id",
      "metadata": {
        "collapsed": true,
        "ExecuteTime": {
          "end_time": "2024-11-22T13:17:23.746469Z",
          "start_time": "2024-11-22T13:17:23.445849Z"
        },
        "id": "initial_id"
      },
      "source": [
        "from sympy import symbols, Eq, solve"
      ],
      "outputs": [],
      "execution_count": null
    },
    {
      "metadata": {
        "id": "eaf445b978435c04"
      },
      "cell_type": "markdown",
      "source": [
        "### 2. Define Variables\n",
        "Create symbolic variables for the unknowns in your equation:"
      ],
      "id": "eaf445b978435c04"
    },
    {
      "metadata": {
        "ExecuteTime": {
          "end_time": "2024-11-22T13:17:25.622679Z",
          "start_time": "2024-11-22T13:17:25.620082Z"
        },
        "id": "cdcbcd32d9c10b82"
      },
      "cell_type": "code",
      "source": [
        "x = symbols('x')  # Define a variable x"
      ],
      "id": "cdcbcd32d9c10b82",
      "outputs": [],
      "execution_count": null
    },
    {
      "metadata": {
        "id": "679f4174005f267b"
      },
      "cell_type": "markdown",
      "source": [
        "### 3. Define an Equation\n",
        "Use `Eq(lhs, rhs)` to represent an equation $ \\text{lhs} = \\text{rhs} $:"
      ],
      "id": "679f4174005f267b"
    },
    {
      "metadata": {
        "ExecuteTime": {
          "end_time": "2024-11-22T13:17:27.383647Z",
          "start_time": "2024-11-22T13:17:27.336664Z"
        },
        "id": "a1e4b8948bebf222"
      },
      "cell_type": "code",
      "source": [
        "equation = Eq(2 * x + 3, 7)  # Represents 2x + 3 = 7"
      ],
      "id": "a1e4b8948bebf222",
      "outputs": [],
      "execution_count": null
    },
    {
      "metadata": {
        "id": "646866a0c341acd0"
      },
      "cell_type": "markdown",
      "source": [
        "### 4. Solve the Equation\n",
        "Use `solve(equation, variable)` to find the solution:"
      ],
      "id": "646866a0c341acd0"
    },
    {
      "metadata": {
        "ExecuteTime": {
          "end_time": "2024-11-22T13:17:29.023841Z",
          "start_time": "2024-11-22T13:17:29.015691Z"
        },
        "id": "6041692cceda1d14",
        "outputId": "973ece66-91b0-4b62-a15f-5b5e192d5f1c"
      },
      "cell_type": "code",
      "source": [
        "solution = solve(equation, x)\n",
        "print(\"Solution:\", solution)  # Output: [2]"
      ],
      "id": "6041692cceda1d14",
      "outputs": [
        {
          "name": "stdout",
          "output_type": "stream",
          "text": [
            "Solution: [2]\n"
          ]
        }
      ],
      "execution_count": null
    },
    {
      "metadata": {
        "id": "72cac8faf7efc84a"
      },
      "cell_type": "markdown",
      "source": [
        "### 5. Solve Multiple Equations\n",
        "To solve a system of equations, pass them as a list:"
      ],
      "id": "72cac8faf7efc84a"
    },
    {
      "metadata": {
        "ExecuteTime": {
          "end_time": "2024-11-22T13:17:30.778167Z",
          "start_time": "2024-11-22T13:17:30.761111Z"
        },
        "id": "33c109d5f009466f",
        "outputId": "19fe31f7-dd76-49eb-d2ce-64ef67fe1a4c"
      },
      "cell_type": "code",
      "source": [
        "y = symbols('y')  # Define another variable\n",
        "\n",
        "eq1 = Eq(2 * x + y, 5)  # Represents 2x + y = 5\n",
        "eq2 = Eq(3 * x - y, 4)  # Represents 3x - y = 4\n",
        "\n",
        "solutions = solve([eq1, eq2], (x, y))\n",
        "print(\"Solutions:\", solutions)  # Output: {x: 3, y: -1}"
      ],
      "id": "33c109d5f009466f",
      "outputs": [
        {
          "name": "stdout",
          "output_type": "stream",
          "text": [
            "Solutions: {x: 9/5, y: 7/5}\n"
          ]
        }
      ],
      "execution_count": null
    }
  ],
  "metadata": {
    "kernelspec": {
      "display_name": "Python 3",
      "language": "python",
      "name": "python3"
    },
    "language_info": {
      "codemirror_mode": {
        "name": "ipython",
        "version": 2
      },
      "file_extension": ".py",
      "mimetype": "text/x-python",
      "name": "python",
      "nbconvert_exporter": "python",
      "pygments_lexer": "ipython2",
      "version": "2.7.6"
    },
    "colab": {
      "provenance": [],
      "include_colab_link": true
    }
  },
  "nbformat": 4,
  "nbformat_minor": 5
}