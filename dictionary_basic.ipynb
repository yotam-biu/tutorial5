{
  "cells": [
    {
      "cell_type": "markdown",
      "metadata": {
        "id": "view-in-github",
        "colab_type": "text"
      },
      "source": [
        "<a href=\"https://colab.research.google.com/github/yotam-biu/tutorial5/blob/main/dictionary_basic.ipynb\" target=\"_parent\"><img src=\"https://colab.research.google.com/assets/colab-badge.svg\" alt=\"Open In Colab\"/></a>"
      ]
    },
    {
      "cell_type": "markdown",
      "id": "c1aaeb61",
      "metadata": {
        "id": "c1aaeb61"
      },
      "source": [
        "# Dictionary"
      ]
    },
    {
      "cell_type": "markdown",
      "id": "991509b6",
      "metadata": {
        "id": "991509b6"
      },
      "source": [
        "Creating a Dictionary"
      ]
    },
    {
      "cell_type": "code",
      "execution_count": null,
      "id": "b1d354e6",
      "metadata": {
        "id": "b1d354e6"
      },
      "outputs": [],
      "source": [
        "# Empty dictionary\n",
        "my_dict = {}\n",
        "\n",
        "# Dictionary with initial values\n",
        "my_dict = {'key1': 'value1', 'key2': 'value2', 'key3': 'value3'}\n"
      ]
    },
    {
      "cell_type": "markdown",
      "id": "583c1f75",
      "metadata": {
        "id": "583c1f75"
      },
      "source": [
        "Accessing Values"
      ]
    },
    {
      "cell_type": "code",
      "execution_count": null,
      "id": "e1dff192",
      "metadata": {
        "id": "e1dff192"
      },
      "outputs": [],
      "source": [
        "my_dict = {'name': 'John', 'age': 25, 'city': 'New York'}\n",
        "\n",
        "print(my_dict['name'])  # Output: John\n",
        "print(my_dict.get('age'))  # Output: 25\n",
        "print(my_dict.get('country', 'USA'))  # Output: USA (default value)\n"
      ]
    },
    {
      "cell_type": "code",
      "source": [
        "my_dict[\"age\"] += 1\n",
        "my_dict"
      ],
      "metadata": {
        "id": "mUNbmpwJfrI0"
      },
      "id": "mUNbmpwJfrI0",
      "execution_count": null,
      "outputs": []
    },
    {
      "cell_type": "markdown",
      "id": "aa6b1508",
      "metadata": {
        "id": "aa6b1508"
      },
      "source": [
        "Modifying Values"
      ]
    },
    {
      "cell_type": "code",
      "execution_count": null,
      "id": "b334575a",
      "metadata": {
        "id": "b334575a"
      },
      "outputs": [],
      "source": [
        "my_dict = {'name': 'John', 'age': 25, 'city': 'New York'}\n",
        "\n",
        "my_dict['age'] = 30\n",
        "print(my_dict)  # Output: {'name': 'John', 'age': 30, 'city': 'New York'}\n",
        "\n",
        "my_dict.update({'city': 'San Francisco'})\n",
        "print(my_dict)  # Output: {'name': 'John', 'age': 30, 'city': 'San Francisco'}\n"
      ]
    },
    {
      "cell_type": "markdown",
      "id": "a6860f8c",
      "metadata": {
        "id": "a6860f8c"
      },
      "source": [
        "Adding New Key-Value Pairs"
      ]
    },
    {
      "cell_type": "code",
      "execution_count": null,
      "id": "5922e39c",
      "metadata": {
        "id": "5922e39c"
      },
      "outputs": [],
      "source": [
        "my_dict = {'name': 'John', 'age': 25}\n",
        "\n",
        "my_dict['city'] = 'New York'\n",
        "print(my_dict)  # Output: {'name': 'John', 'age': 25, 'city': 'New York'}\n",
        "\n",
        "my_dict.update({'country': 'USA'})\n",
        "print(my_dict)  # Output: {'name': 'John', 'age': 25, 'city': 'New York', 'country': 'USA'}\n"
      ]
    },
    {
      "cell_type": "markdown",
      "id": "087ecc79",
      "metadata": {
        "id": "087ecc79"
      },
      "source": [
        "Removing Key-Value Pairs"
      ]
    },
    {
      "cell_type": "code",
      "execution_count": null,
      "id": "4489a23d",
      "metadata": {
        "id": "4489a23d"
      },
      "outputs": [],
      "source": [
        "my_dict = {'name': 'John', 'age': 25, 'city': 'New York'}\n",
        "\n",
        "\n",
        "my_dict.pop('city')\n",
        "print(my_dict)  # Output: {'name': 'John'}\n"
      ]
    },
    {
      "cell_type": "markdown",
      "id": "d2354c52",
      "metadata": {
        "id": "d2354c52"
      },
      "source": [
        "Iterating Over a Dictionary"
      ]
    },
    {
      "cell_type": "code",
      "execution_count": null,
      "id": "b8bc266b",
      "metadata": {
        "id": "b8bc266b"
      },
      "outputs": [],
      "source": [
        "my_dict = {'name': 'John', 'age': 25, 'city': 'New York'}\n",
        "\n",
        "# Iterating over keys\n",
        "for key in my_dict.keys():\n",
        "    print(key)  # Output: name, age, city\n"
      ]
    },
    {
      "cell_type": "code",
      "source": [
        "# Iterating over values\n",
        "for value in my_dict.values():\n",
        "    print(value)  # Output: John, 25, New York"
      ],
      "metadata": {
        "id": "A_KRrtsH1A4h"
      },
      "id": "A_KRrtsH1A4h",
      "execution_count": null,
      "outputs": []
    },
    {
      "cell_type": "code",
      "source": [
        "\n",
        "# # Iterating over key-value pairs\n",
        "for key, value in my_dict.items():\n",
        "    print(key, value)  # Output: name John, age 25, city New York"
      ],
      "metadata": {
        "id": "06Tr7MDm1DJO"
      },
      "id": "06Tr7MDm1DJO",
      "execution_count": null,
      "outputs": []
    },
    {
      "cell_type": "markdown",
      "source": [
        "Building a Dictionary with a Loop"
      ],
      "metadata": {
        "id": "WQcnocoq1p36"
      },
      "id": "WQcnocoq1p36"
    },
    {
      "cell_type": "code",
      "source": [
        "\n",
        "names = ['Alice', 'Bob', 'Charlie', 'David', 'Eve']\n",
        "\n",
        "\n",
        "names_length_dict = {}\n",
        "for name in names:\n",
        "    names_length_dict[name] = len(name)\n",
        "\n",
        "print(names_length_dict)\n"
      ],
      "metadata": {
        "id": "ra3LvlU71n9Q"
      },
      "id": "ra3LvlU71n9Q",
      "execution_count": null,
      "outputs": []
    }
  ],
  "metadata": {
    "kernelspec": {
      "display_name": "Python 3 (ipykernel)",
      "language": "python",
      "name": "python3"
    },
    "language_info": {
      "codemirror_mode": {
        "name": "ipython",
        "version": 3
      },
      "file_extension": ".py",
      "mimetype": "text/x-python",
      "name": "python",
      "nbconvert_exporter": "python",
      "pygments_lexer": "ipython3",
      "version": "3.9.7"
    },
    "colab": {
      "provenance": [],
      "include_colab_link": true
    }
  },
  "nbformat": 4,
  "nbformat_minor": 5
}